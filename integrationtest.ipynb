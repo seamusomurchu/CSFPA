{
 "cells": [
  {
   "cell_type": "code",
   "execution_count": 2,
   "metadata": {},
   "outputs": [],
   "source": [
    "import sys\n",
    "sys.path.insert(0,'/home/james/eclipse-workspace/qubiclmou/qubic/')\n",
    "\n",
    "import qubic\n",
    "import glob\n",
    "import numpy as np\n",
    "import os\n",
    "import timeit\n",
    "from CSFPA_dataIO import getXYcoords, dataIO, dataAnalysis, SaveVars, IntensityCalc, IntensityCalcRAW"
   ]
  },
  {
   "cell_type": "code",
   "execution_count": 8,
   "metadata": {},
   "outputs": [
    {
     "name": "stdout",
     "output_type": "stream",
     "text": [
      "(992, 4, 3)\n"
     ]
    }
   ],
   "source": [
    "d = qubic.qubicdict.qubicDict()\n",
    "d.read_from_file('/home/james/eclipse-workspace/qubiclmou/qubic/qubic/scripts/global_test.dict')\n",
    "q = qubic.QubicMultibandInstrument(d)\n",
    "vtxs = q[0].detector.vertex\n",
    "print vtxs.shape"
   ]
  },
  {
   "cell_type": "code",
   "execution_count": null,
   "metadata": {},
   "outputs": [],
   "source": []
  }
 ],
 "metadata": {
  "kernelspec": {
   "display_name": "Python 2",
   "language": "python",
   "name": "python2"
  },
  "language_info": {
   "codemirror_mode": {
    "name": "ipython",
    "version": 2
   },
   "file_extension": ".py",
   "mimetype": "text/x-python",
   "name": "python",
   "nbconvert_exporter": "python",
   "pygments_lexer": "ipython2",
   "version": "2.7.15"
  }
 },
 "nbformat": 4,
 "nbformat_minor": 2
}
